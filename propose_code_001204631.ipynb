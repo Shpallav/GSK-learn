{
  "nbformat": 4,
  "nbformat_minor": 0,
  "metadata": {
    "colab": {
      "provenance": []
    },
    "kernelspec": {
      "name": "python3",
      "display_name": "Python 3"
    },
    "language_info": {
      "name": "python"
    }
  },
  "cells": [
    {
      "cell_type": "code",
      "source": [
        "'''\n",
        "#python atmosphere comes with installed libraries.\n",
        "for example like:\n",
        "                 train test split, sns,numpy and pandas etc\n",
        "first we have imported all the necessary libraries that we used in this code.\n",
        "then we read our dataset of atack files.then we plot some graphs like ,histogram and countplot.\n",
        "then we get the shape of the data nd removed some of the columns just to improving the accuracy.\n",
        "afterthat we counted all the null values and get the shape.\n",
        "then we removed the space from the columns.\n",
        "afterthat we filled nan values with 0 and done labelling here.\n",
        "In feature engineering we have selected some of the features and drop them that is taken for the prediction.\n",
        "then we have applied fcmim technique and showed some of the imported features.\n",
        "afterthat we used pca technique.\n",
        "the models we have used in this code i.e extra tree classifier and xgboost with cross validation.\n",
        "By applying these models we have got thr accuracy that is mentioned in our paper.\n",
        "then we also find out the accuracy,precision ,recall,f1_score for each model.\n",
        "as mentioned in our base paper.\n",
        "the data we have used in this model which is publicly available.\n",
        "we have used training and testing data in this code.\n",
        "and then we have done data visualization by showing some of the graph's like hist and count plots\n",
        "after visualization we have applied labeling,fcmim,and pca techniques.\n",
        "we have also done feaure selection here\n",
        "we have used only few columns to create principal component analysis(pca). \n",
        "\n",
        "'''"
      ],
      "metadata": {
        "id": "FFtufZaHpD94",
        "colab": {
          "base_uri": "https://localhost:8080/",
          "height": 140
        },
        "outputId": "38fd0d13-24d6-4555-c90c-9ecc6d6649d6"
      },
      "execution_count": null,
      "outputs": [
        {
          "output_type": "execute_result",
          "data": {
            "text/plain": [
              "\"\\n#python atmosphere comes with installed libraries.\\nfor example like:\\n                 train test split, sns,numpy and pandas etc\\nfirst we have imported all the necessary libraries that we used in this code.\\nthen we read our dataset of atack files.then we plot some graphs like ,histogram and countplot.\\nthen we get the shape of the data nd removed some of the columns just to improving the accuracy.\\nafterthat we counted all the null values and get the shape.\\nthen we removed the space from the columns.\\nafterthat we filled nan values with 0 and done labelling here.\\nIn feature engineering we have selected some of the features and drop them that is taken for the prediction.\\nthen we have applied fcmim technique and showed some of the imported features.\\nafterthat we used pca technique.\\nthe models we have used in this code i.e extra tree classifier and xgboost with cross validation.\\nBy applying these models we have got thr accuracy that is mentioned in our paper.\\nthen we also find out the accuracy,precision ,recall,f1_score for each model.\\nas mentioned in our base paper.\\nthe data we have used in this model which is publicly available.\\nwe have used training and testing data in this code.\\nand then we have done data visualization by showing some of the graph's like hist and count plots\\nafter visualization we have applied labeling,fcmim,and pca techniques.\\nwe have also done feaure selection here\\nwe have used only few columns to create principal component analysis(pca). \\n\\n\""
            ],
            "application/vnd.google.colaboratory.intrinsic+json": {
              "type": "string"
            }
          },
          "metadata": {},
          "execution_count": 1
        }
      ]
    },
    {
      "cell_type": "code",
      "execution_count": 2,
      "metadata": {
        "id": "2GcgWaQ90AWb"
      },
      "outputs": [],
      "source": [
        "#Importing the necessary libraries in the code.\n",
        "import numpy as np\n",
        "#Numpy is imported here so that we may work with arrays.\n",
        "import pandas as pd\n",
        "#we are currently importing pandas to manipulate da_ta.\n",
        "from sklearn import preprocessing\n",
        "from sklearn.model_selection import train_test_split as split_data\n",
        "#For data splitting in taining and tsting, import taintstsplt().\n",
        "from sklearn import metrics as mtrx\n",
        "import matplotlib.pyplot as matplt\n",
        "import seaborn as sns\n",
        "#Currently, we are importing Seaborn and Matplotlib for da_ta visualisation."
      ]
    },
    {
      "cell_type": "code",
      "source": [
        "!pip install skfeature-chappers "
      ],
      "metadata": {
        "id": "bFxUvF7G1E1M",
        "colab": {
          "base_uri": "https://localhost:8080/"
        },
        "outputId": "7d244094-f26b-4253-edd7-f82d81776f90"
      },
      "execution_count": 4,
      "outputs": [
        {
          "output_type": "stream",
          "name": "stdout",
          "text": [
            "Looking in indexes: https://pypi.org/simple, https://us-python.pkg.dev/colab-wheels/public/simple/\n",
            "Collecting skfeature-chappers\n",
            "  Downloading skfeature_chappers-1.1.0-py3-none-any.whl (66 kB)\n",
            "\u001b[2K     \u001b[90m━━━━━━━━━━━━━━━━━━━━━━━━━━━━━━━━━━━━━━━━\u001b[0m \u001b[32m66.3/66.3 KB\u001b[0m \u001b[31m2.3 MB/s\u001b[0m eta \u001b[36m0:00:00\u001b[0m\n",
            "\u001b[?25hRequirement already satisfied: scikit-learn in /usr/local/lib/python3.8/dist-packages (from skfeature-chappers) (1.0.2)\n",
            "Requirement already satisfied: pandas in /usr/local/lib/python3.8/dist-packages (from skfeature-chappers) (1.3.5)\n",
            "Requirement already satisfied: numpy in /usr/local/lib/python3.8/dist-packages (from skfeature-chappers) (1.21.6)\n",
            "Requirement already satisfied: pytz>=2017.3 in /usr/local/lib/python3.8/dist-packages (from pandas->skfeature-chappers) (2022.7)\n",
            "Requirement already satisfied: python-dateutil>=2.7.3 in /usr/local/lib/python3.8/dist-packages (from pandas->skfeature-chappers) (2.8.2)\n",
            "Requirement already satisfied: threadpoolctl>=2.0.0 in /usr/local/lib/python3.8/dist-packages (from scikit-learn->skfeature-chappers) (3.1.0)\n",
            "Requirement already satisfied: joblib>=0.11 in /usr/local/lib/python3.8/dist-packages (from scikit-learn->skfeature-chappers) (1.2.0)\n",
            "Requirement already satisfied: scipy>=1.1.0 in /usr/local/lib/python3.8/dist-packages (from scikit-learn->skfeature-chappers) (1.7.3)\n",
            "Requirement already satisfied: six>=1.5 in /usr/local/lib/python3.8/dist-packages (from python-dateutil>=2.7.3->pandas->skfeature-chappers) (1.15.0)\n",
            "Installing collected packages: skfeature-chappers\n",
            "Successfully installed skfeature-chappers-1.1.0\n"
          ]
        }
      ]
    },
    {
      "cell_type": "code",
      "source": [
        "from sklearn.preprocessing import StandardScaler as STNSCA\n",
        "#For data normalisation, stndrd scaler are loaded from sklrn.\n",
        "from sklearn.ensemble import BaggingClassifier as BGCLF\n",
        "# importing sklearn's bagging classifier\n",
        "from skfeature.function.information_theoretical_based import CMIM\n",
        "import warnings\n",
        "#Currently, we are impo_rti_ng alerts for fil_ter_ing ignore\n",
        "warnings.filterwarnings(\"ignore\")"
      ],
      "metadata": {
        "id": "BVCdfv6T0w_h"
      },
      "execution_count": 5,
      "outputs": []
    },
    {
      "cell_type": "code",
      "source": [
        "from google.colab import drive\n",
        "drive.mount('/content/drive')"
      ],
      "metadata": {
        "colab": {
          "base_uri": "https://localhost:8080/"
        },
        "id": "Vds_fnRyw53b",
        "outputId": "894666cc-6880-40ab-edb2-039be61ace12"
      },
      "execution_count": 6,
      "outputs": [
        {
          "output_type": "stream",
          "name": "stdout",
          "text": [
            "Mounted at /content/drive\n"
          ]
        }
      ]
    },
    {
      "cell_type": "code",
      "source": [
        "#Here, we are importing reports for the accuracy, recall, and F1 scores.\n",
        "from sklearn.metrics import classification_report, accuracy_score,plot_confusion_matrix,precision_score, recall_score, f1_score,confusion_matrix, roc_auc_score,plot_roc_curve, roc_curve, auc\n",
        "from sklearn.ensemble import RandomForestClassifier\n",
        "#importing some models For classification \n",
        "from sklearn.tree import DecisionTreeClassifier\n",
        "#DT model are imported from sklearn"
      ],
      "metadata": {
        "id": "7oJkuVq80z9H"
      },
      "execution_count": 7,
      "outputs": []
    },
    {
      "cell_type": "code",
      "source": [
        "#use the pandas library for reading dataset\n",
        "web_attack_data=pd.read_csv(\"/content/drive/MyDrive/FULLCODE/attack_file.csv\")"
      ],
      "metadata": {
        "id": "Pp43ZtNq1K7u"
      },
      "execution_count": 8,
      "outputs": []
    },
    {
      "cell_type": "code",
      "source": [
        "#remove first space from column values\n",
        "#removing spaces from aceept char\n",
        "web_attack_data['accept_char']=web_attack_data['accept_char'].str.strip()\n",
        "#removing spaces from accept_lang\n",
        "web_attack_data['accept_lang']=web_attack_data['accept_lang'].str.strip()\n",
        "#removing spaces from accept_encoding\n",
        "web_attack_data['accept_encoding']=web_attack_data['accept_encoding'].str.strip()\n",
        "#removing spaces from user_agent\n",
        "web_attack_data['user_agent']=web_attack_data['user_agent'].str.strip()\n",
        "#removing spaces from  cache_control\n",
        "web_attack_data['cache_control']=web_attack_data['cache_control'].str.strip()\n",
        "#removing spaces from connection\n",
        "web_attack_data['connection']=web_attack_data['connection'].str.strip()\n",
        "#removing spaces from nombre\n",
        "web_attack_data['nombre']=web_attack_data['nombre'].str.strip()\n",
        "#removing spaces from login\n",
        "web_attack_data['login']=web_attack_data['login'].str.strip()\n",
        "#removing spaces from password\n",
        "web_attack_data['password']=web_attack_data['password'].str.strip()\n",
        "#removing spaces from user_agent\n",
        "web_attack_data['user_agent']=web_attack_data['user_agent'].str.strip()\n",
        "#removing spaces from pragma\n",
        "web_attack_data['pragma']=web_attack_data['pragma'].str.strip()\n",
        "#removing spaces from content_type\n",
        "web_attack_data['content_type']=web_attack_data['content_type'].str.strip()\n",
        "#removing spaces from aceept char cookie\n",
        "web_attack_data['cookie']=web_attack_data['cookie'].str.strip()\n",
        "#first fie rows are showing by head function\n",
        "web_attack_data.head(1)"
      ],
      "metadata": {
        "colab": {
          "base_uri": "https://localhost:8080/",
          "height": 224
        },
        "id": "Lbn9rnG7_P8H",
        "outputId": "d7d6c0b1-cdb1-44a9-d0c9-d460e286093d"
      },
      "execution_count": null,
      "outputs": [
        {
          "output_type": "execute_result",
          "data": {
            "text/plain": [
              "   Length_of_cookie                                             accept  \\\n",
              "0                43   text/xml,application/xml,application/xhtml+xm...   \n",
              "\n",
              "                   accept_char                   accept_encoding accept_lang  \\\n",
              "0  utf-8, utf-8;q=0.5, *;q=0.5  x-gzip, x-deflate, gzip, deflate          en   \n",
              "\n",
              "  cache_control connection  content_length content_type  \\\n",
              "0      no-cache      close             NaN          NaN   \n",
              "\n",
              "                                        cookie  ... login  method  nombre  \\\n",
              "0  JSESSIONID=1F767F17239C9B670A39E9B10C3825F4  ...   NaN     GET     NaN   \n",
              "\n",
              "   password password_length    pragma special_chars  \\\n",
              "0       NaN               0  no-cache             7   \n",
              "\n",
              "                                          user_agent  user_agent_length label  \n",
              "0  Mozilla/5.0 (compatible; Konqueror/3.5; Linux)...                 72     1  \n",
              "\n",
              "[1 rows x 24 columns]"
            ],
            "text/html": [
              "\n",
              "  <div id=\"df-31da43e3-3a72-4c4c-87fd-cc213606156b\">\n",
              "    <div class=\"colab-df-container\">\n",
              "      <div>\n",
              "<style scoped>\n",
              "    .dataframe tbody tr th:only-of-type {\n",
              "        vertical-align: middle;\n",
              "    }\n",
              "\n",
              "    .dataframe tbody tr th {\n",
              "        vertical-align: top;\n",
              "    }\n",
              "\n",
              "    .dataframe thead th {\n",
              "        text-align: right;\n",
              "    }\n",
              "</style>\n",
              "<table border=\"1\" class=\"dataframe\">\n",
              "  <thead>\n",
              "    <tr style=\"text-align: right;\">\n",
              "      <th></th>\n",
              "      <th>Length_of_cookie</th>\n",
              "      <th>accept</th>\n",
              "      <th>accept_char</th>\n",
              "      <th>accept_encoding</th>\n",
              "      <th>accept_lang</th>\n",
              "      <th>cache_control</th>\n",
              "      <th>connection</th>\n",
              "      <th>content_length</th>\n",
              "      <th>content_type</th>\n",
              "      <th>cookie</th>\n",
              "      <th>...</th>\n",
              "      <th>login</th>\n",
              "      <th>method</th>\n",
              "      <th>nombre</th>\n",
              "      <th>password</th>\n",
              "      <th>password_length</th>\n",
              "      <th>pragma</th>\n",
              "      <th>special_chars</th>\n",
              "      <th>user_agent</th>\n",
              "      <th>user_agent_length</th>\n",
              "      <th>label</th>\n",
              "    </tr>\n",
              "  </thead>\n",
              "  <tbody>\n",
              "    <tr>\n",
              "      <th>0</th>\n",
              "      <td>43</td>\n",
              "      <td>text/xml,application/xml,application/xhtml+xm...</td>\n",
              "      <td>utf-8, utf-8;q=0.5, *;q=0.5</td>\n",
              "      <td>x-gzip, x-deflate, gzip, deflate</td>\n",
              "      <td>en</td>\n",
              "      <td>no-cache</td>\n",
              "      <td>close</td>\n",
              "      <td>NaN</td>\n",
              "      <td>NaN</td>\n",
              "      <td>JSESSIONID=1F767F17239C9B670A39E9B10C3825F4</td>\n",
              "      <td>...</td>\n",
              "      <td>NaN</td>\n",
              "      <td>GET</td>\n",
              "      <td>NaN</td>\n",
              "      <td>NaN</td>\n",
              "      <td>0</td>\n",
              "      <td>no-cache</td>\n",
              "      <td>7</td>\n",
              "      <td>Mozilla/5.0 (compatible; Konqueror/3.5; Linux)...</td>\n",
              "      <td>72</td>\n",
              "      <td>1</td>\n",
              "    </tr>\n",
              "  </tbody>\n",
              "</table>\n",
              "<p>1 rows × 24 columns</p>\n",
              "</div>\n",
              "      <button class=\"colab-df-convert\" onclick=\"convertToInteractive('df-31da43e3-3a72-4c4c-87fd-cc213606156b')\"\n",
              "              title=\"Convert this dataframe to an interactive table.\"\n",
              "              style=\"display:none;\">\n",
              "        \n",
              "  <svg xmlns=\"http://www.w3.org/2000/svg\" height=\"24px\"viewBox=\"0 0 24 24\"\n",
              "       width=\"24px\">\n",
              "    <path d=\"M0 0h24v24H0V0z\" fill=\"none\"/>\n",
              "    <path d=\"M18.56 5.44l.94 2.06.94-2.06 2.06-.94-2.06-.94-.94-2.06-.94 2.06-2.06.94zm-11 1L8.5 8.5l.94-2.06 2.06-.94-2.06-.94L8.5 2.5l-.94 2.06-2.06.94zm10 10l.94 2.06.94-2.06 2.06-.94-2.06-.94-.94-2.06-.94 2.06-2.06.94z\"/><path d=\"M17.41 7.96l-1.37-1.37c-.4-.4-.92-.59-1.43-.59-.52 0-1.04.2-1.43.59L10.3 9.45l-7.72 7.72c-.78.78-.78 2.05 0 2.83L4 21.41c.39.39.9.59 1.41.59.51 0 1.02-.2 1.41-.59l7.78-7.78 2.81-2.81c.8-.78.8-2.07 0-2.86zM5.41 20L4 18.59l7.72-7.72 1.47 1.35L5.41 20z\"/>\n",
              "  </svg>\n",
              "      </button>\n",
              "      \n",
              "  <style>\n",
              "    .colab-df-container {\n",
              "      display:flex;\n",
              "      flex-wrap:wrap;\n",
              "      gap: 12px;\n",
              "    }\n",
              "\n",
              "    .colab-df-convert {\n",
              "      background-color: #E8F0FE;\n",
              "      border: none;\n",
              "      border-radius: 50%;\n",
              "      cursor: pointer;\n",
              "      display: none;\n",
              "      fill: #1967D2;\n",
              "      height: 32px;\n",
              "      padding: 0 0 0 0;\n",
              "      width: 32px;\n",
              "    }\n",
              "\n",
              "    .colab-df-convert:hover {\n",
              "      background-color: #E2EBFA;\n",
              "      box-shadow: 0px 1px 2px rgba(60, 64, 67, 0.3), 0px 1px 3px 1px rgba(60, 64, 67, 0.15);\n",
              "      fill: #174EA6;\n",
              "    }\n",
              "\n",
              "    [theme=dark] .colab-df-convert {\n",
              "      background-color: #3B4455;\n",
              "      fill: #D2E3FC;\n",
              "    }\n",
              "\n",
              "    [theme=dark] .colab-df-convert:hover {\n",
              "      background-color: #434B5C;\n",
              "      box-shadow: 0px 1px 3px 1px rgba(0, 0, 0, 0.15);\n",
              "      filter: drop-shadow(0px 1px 2px rgba(0, 0, 0, 0.3));\n",
              "      fill: #FFFFFF;\n",
              "    }\n",
              "  </style>\n",
              "\n",
              "      <script>\n",
              "        const buttonEl =\n",
              "          document.querySelector('#df-31da43e3-3a72-4c4c-87fd-cc213606156b button.colab-df-convert');\n",
              "        buttonEl.style.display =\n",
              "          google.colab.kernel.accessAllowed ? 'block' : 'none';\n",
              "\n",
              "        async function convertToInteractive(key) {\n",
              "          const element = document.querySelector('#df-31da43e3-3a72-4c4c-87fd-cc213606156b');\n",
              "          const dataTable =\n",
              "            await google.colab.kernel.invokeFunction('convertToInteractive',\n",
              "                                                     [key], {});\n",
              "          if (!dataTable) return;\n",
              "\n",
              "          const docLinkHtml = 'Like what you see? Visit the ' +\n",
              "            '<a target=\"_blank\" href=https://colab.research.google.com/notebooks/data_table.ipynb>data table notebook</a>'\n",
              "            + ' to learn more about interactive tables.';\n",
              "          element.innerHTML = '';\n",
              "          dataTable['output_type'] = 'display_data';\n",
              "          await google.colab.output.renderOutput(dataTable, element);\n",
              "          const docLink = document.createElement('div');\n",
              "          docLink.innerHTML = docLinkHtml;\n",
              "          element.appendChild(docLink);\n",
              "        }\n",
              "      </script>\n",
              "    </div>\n",
              "  </div>\n",
              "  "
            ]
          },
          "metadata": {},
          "execution_count": 8
        }
      ]
    },
    {
      "cell_type": "code",
      "source": [
        "##_get the shape of our data\n",
        "web_attack_data.shape"
      ],
      "metadata": {
        "colab": {
          "base_uri": "https://localhost:8080/"
        },
        "id": "STSJlyoaAqAv",
        "outputId": "981dfbf5-9aff-4247-f402-6ace761d36c9"
      },
      "execution_count": null,
      "outputs": [
        {
          "output_type": "execute_result",
          "data": {
            "text/plain": [
              "(169065, 24)"
            ]
          },
          "metadata": {},
          "execution_count": 9
        }
      ]
    },
    {
      "cell_type": "code",
      "source": [
        "# define parameter for all the histograms\n",
        "web_attack_data.hist(bins=30, figsize=(20,15));"
      ],
      "metadata": {
        "colab": {
          "base_uri": "https://localhost:8080/",
          "height": 879
        },
        "id": "Yx-Ae7j0oI4e",
        "outputId": "02d990ca-0fce-46da-ea07-df6843dce3b9"
      },
      "execution_count": null,
      "outputs": [
        {
          "output_type": "display_data",
          "data": {
            "text/plain": [
              "<Figure size 1440x1080 with 9 Axes>"
            ],
            "image/png": "[encoded data removed]"
          },
          "metadata": {
            "needs_background": "light"
          }
        }
      ]
    },
    {
      "cell_type": "code",
      "source": [
        "#a count plot to show number of labels\n",
        "matplt.figure(figsize=(10,5),dpi=100)\n",
        "#fig_size\n",
        "cplot=sns.countplot(y='label',data=web_attack_data,facecolor=(0, 0, 0, 0),linewidth=5,palette='Set3',edgecolor=sns.color_palette(\"dark\", 2))\n",
        "# web-based attack countplot with attack count and colour correction\n",
        "matplt.xlabel(' Attack count ',fontsize=16)\n",
        "\n",
        "##adjusting the x axis label attack count and the font size to 16\n",
        "matplt.ylabel('Web Based Attack',fontsize=16)\n",
        "# fixing label on y axis web based attack count and font size 16\n",
        "labels=['Normal','Anomolous']#Here are two labels that are normal and anamolous.\n",
        "cplot.set_yticklabels(labels,rotation=0,fontsize='x-large')\n",
        "matplt.title(\"Intrustion Detection\",fontsize=16)\n",
        "#Intrusion detection gicing title \n",
        "matplt.tight_layout()"
      ],
      "metadata": {
        "colab": {
          "base_uri": "https://localhost:8080/",
          "height": 507
        },
        "id": "O9XNjdGxA2jI",
        "outputId": "582b0629-c9e5-4049-97d8-ad4779796d14"
      },
      "execution_count": null,
      "outputs": [
        {
          "output_type": "display_data",
          "data": {
            "text/plain": [
              "<Figure size 1000x500 with 1 Axes>"
            ],
            "image/png": "[encoded data removed]"
          },
          "metadata": {
            "needs_background": "light"
          }
        }
      ]
    },
    {
      "cell_type": "code",
      "source": [
        "#fill nan with 0\n",
        "web_attack_data['email']=web_attack_data['email'].fillna('0')\n",
        "web_attack_data['login']=web_attack_data['login'].fillna('0')\n",
        "web_attack_data['password']=web_attack_data['password'].fillna('0')\n",
        "web_attack_data['nombre']=web_attack_data['nombre'].fillna('0')\n",
        "web_attack_data['content_length']=web_attack_data['content_length'].fillna(0)\n",
        "web_attack_data['content_type']=web_attack_data['content_type'].fillna('0')                                  \n",
        "web_attack_data.head(1)"
      ],
      "metadata": {
        "colab": {
          "base_uri": "https://localhost:8080/",
          "height": 224
        },
        "id": "rUqVipCKCAOF",
        "outputId": "a9a99866-978c-43c2-deb0-7cacb60a72f2"
      },
      "execution_count": null,
      "outputs": [
        {
          "output_type": "execute_result",
          "data": {
            "text/plain": [
              "   Length_of_cookie                                             accept  \\\n",
              "0                43   text/xml,application/xml,application/xhtml+xm...   \n",
              "\n",
              "                   accept_char                   accept_encoding accept_lang  \\\n",
              "0  utf-8, utf-8;q=0.5, *;q=0.5  x-gzip, x-deflate, gzip, deflate          en   \n",
              "\n",
              "  cache_control connection  content_length content_type  \\\n",
              "0      no-cache      close             0.0            0   \n",
              "\n",
              "                                        cookie  ... login  method  nombre  \\\n",
              "0  JSESSIONID=1F767F17239C9B670A39E9B10C3825F4  ...     0     GET       0   \n",
              "\n",
              "   password password_length    pragma special_chars  \\\n",
              "0         0               0  no-cache             7   \n",
              "\n",
              "                                          user_agent  user_agent_length label  \n",
              "0  Mozilla/5.0 (compatible; Konqueror/3.5; Linux)...                 72     1  \n",
              "\n",
              "[1 rows x 24 columns]"
            ],
            "text/html": [
              "\n",
              "  <div id=\"df-a91a3cd8-92de-4ef1-8669-5c941de5f8c3\">\n",
              "    <div class=\"colab-df-container\">\n",
              "      <div>\n",
              "<style scoped>\n",
              "    .dataframe tbody tr th:only-of-type {\n",
              "        vertical-align: middle;\n",
              "    }\n",
              "\n",
              "    .dataframe tbody tr th {\n",
              "        vertical-align: top;\n",
              "    }\n",
              "\n",
              "    .dataframe thead th {\n",
              "        text-align: right;\n",
              "    }\n",
              "</style>\n",
              "<table border=\"1\" class=\"dataframe\">\n",
              "  <thead>\n",
              "    <tr style=\"text-align: right;\">\n",
              "      <th></th>\n",
              "      <th>Length_of_cookie</th>\n",
              "      <th>accept</th>\n",
              "      <th>accept_char</th>\n",
              "      <th>accept_encoding</th>\n",
              "      <th>accept_lang</th>\n",
              "      <th>cache_control</th>\n",
              "      <th>connection</th>\n",
              "      <th>content_length</th>\n",
              "      <th>content_type</th>\n",
              "      <th>cookie</th>\n",
              "      <th>...</th>\n",
              "      <th>login</th>\n",
              "      <th>method</th>\n",
              "      <th>nombre</th>\n",
              "      <th>password</th>\n",
              "      <th>password_length</th>\n",
              "      <th>pragma</th>\n",
              "      <th>special_chars</th>\n",
              "      <th>user_agent</th>\n",
              "      <th>user_agent_length</th>\n",
              "      <th>label</th>\n",
              "    </tr>\n",
              "  </thead>\n",
              "  <tbody>\n",
              "    <tr>\n",
              "      <th>0</th>\n",
              "      <td>43</td>\n",
              "      <td>text/xml,application/xml,application/xhtml+xm...</td>\n",
              "      <td>utf-8, utf-8;q=0.5, *;q=0.5</td>\n",
              "      <td>x-gzip, x-deflate, gzip, deflate</td>\n",
              "      <td>en</td>\n",
              "      <td>no-cache</td>\n",
              "      <td>close</td>\n",
              "      <td>0.0</td>\n",
              "      <td>0</td>\n",
              "      <td>JSESSIONID=1F767F17239C9B670A39E9B10C3825F4</td>\n",
              "      <td>...</td>\n",
              "      <td>0</td>\n",
              "      <td>GET</td>\n",
              "      <td>0</td>\n",
              "      <td>0</td>\n",
              "      <td>0</td>\n",
              "      <td>no-cache</td>\n",
              "      <td>7</td>\n",
              "      <td>Mozilla/5.0 (compatible; Konqueror/3.5; Linux)...</td>\n",
              "      <td>72</td>\n",
              "      <td>1</td>\n",
              "    </tr>\n",
              "  </tbody>\n",
              "</table>\n",
              "<p>1 rows × 24 columns</p>\n",
              "</div>\n",
              "      <button class=\"colab-df-convert\" onclick=\"convertToInteractive('df-a91a3cd8-92de-4ef1-8669-5c941de5f8c3')\"\n",
              "              title=\"Convert this dataframe to an interactive table.\"\n",
              "              style=\"display:none;\">\n",
              "        \n",
              "  <svg xmlns=\"http://www.w3.org/2000/svg\" height=\"24px\"viewBox=\"0 0 24 24\"\n",
              "       width=\"24px\">\n",
              "    <path d=\"M0 0h24v24H0V0z\" fill=\"none\"/>\n",
              "    <path d=\"M18.56 5.44l.94 2.06.94-2.06 2.06-.94-2.06-.94-.94-2.06-.94 2.06-2.06.94zm-11 1L8.5 8.5l.94-2.06 2.06-.94-2.06-.94L8.5 2.5l-.94 2.06-2.06.94zm10 10l.94 2.06.94-2.06 2.06-.94-2.06-.94-.94-2.06-.94 2.06-2.06.94z\"/><path d=\"M17.41 7.96l-1.37-1.37c-.4-.4-.92-.59-1.43-.59-.52 0-1.04.2-1.43.59L10.3 9.45l-7.72 7.72c-.78.78-.78 2.05 0 2.83L4 21.41c.39.39.9.59 1.41.59.51 0 1.02-.2 1.41-.59l7.78-7.78 2.81-2.81c.8-.78.8-2.07 0-2.86zM5.41 20L4 18.59l7.72-7.72 1.47 1.35L5.41 20z\"/>\n",
              "  </svg>\n",
              "      </button>\n",
              "      \n",
              "  <style>\n",
              "    .colab-df-container {\n",
              "      display:flex;\n",
              "      flex-wrap:wrap;\n",
              "      gap: 12px;\n",
              "    }\n",
              "\n",
              "    .colab-df-convert {\n",
              "      background-color: #E8F0FE;\n",
              "      border: none;\n",
              "      border-radius: 50%;\n",
              "      cursor: pointer;\n",
              "      display: none;\n",
              "      fill: #1967D2;\n",
              "      height: 32px;\n",
              "      padding: 0 0 0 0;\n",
              "      width: 32px;\n",
              "    }\n",
              "\n",
              "    .colab-df-convert:hover {\n",
              "      background-color: #E2EBFA;\n",
              "      box-shadow: 0px 1px 2px rgba(60, 64, 67, 0.3), 0px 1px 3px 1px rgba(60, 64, 67, 0.15);\n",
              "      fill: #174EA6;\n",
              "    }\n",
              "\n",
              "    [theme=dark] .colab-df-convert {\n",
              "      background-color: #3B4455;\n",
              "      fill: #D2E3FC;\n",
              "    }\n",
              "\n",
              "    [theme=dark] .colab-df-convert:hover {\n",
              "      background-color: #434B5C;\n",
              "      box-shadow: 0px 1px 3px 1px rgba(0, 0, 0, 0.15);\n",
              "      filter: drop-shadow(0px 1px 2px rgba(0, 0, 0, 0.3));\n",
              "      fill: #FFFFFF;\n",
              "    }\n",
              "  </style>\n",
              "\n",
              "      <script>\n",
              "        const buttonEl =\n",
              "          document.querySelector('#df-a91a3cd8-92de-4ef1-8669-5c941de5f8c3 button.colab-df-convert');\n",
              "        buttonEl.style.display =\n",
              "          google.colab.kernel.accessAllowed ? 'block' : 'none';\n",
              "\n",
              "        async function convertToInteractive(key) {\n",
              "          const element = document.querySelector('#df-a91a3cd8-92de-4ef1-8669-5c941de5f8c3');\n",
              "          const dataTable =\n",
              "            await google.colab.kernel.invokeFunction('convertToInteractive',\n",
              "                                                     [key], {});\n",
              "          if (!dataTable) return;\n",
              "\n",
              "          const docLinkHtml = 'Like what you see? Visit the ' +\n",
              "            '<a target=\"_blank\" href=https://colab.research.google.com/notebooks/data_table.ipynb>data table notebook</a>'\n",
              "            + ' to learn more about interactive tables.';\n",
              "          element.innerHTML = '';\n",
              "          dataTable['output_type'] = 'display_data';\n",
              "          await google.colab.output.renderOutput(dataTable, element);\n",
              "          const docLink = document.createElement('div');\n",
              "          docLink.innerHTML = docLinkHtml;\n",
              "          element.appendChild(docLink);\n",
              "        }\n",
              "      </script>\n",
              "    </div>\n",
              "  </div>\n",
              "  "
            ]
          },
          "metadata": {},
          "execution_count": 12
        }
      ]
    },
    {
      "cell_type": "markdown",
      "source": [
        "**Labeling **"
      ],
      "metadata": {
        "id": "RmpDxPptOJPx"
      }
    },
    {
      "cell_type": "code",
      "source": [
        "# The object label encoder is capable of comprehending wrd labls.\n",
        "label_encoder = preprocessing.LabelEncoder()\n",
        " \n",
        "# Encode labels in columns\n",
        "web_attack_data['accept']= label_encoder.fit_transform(web_attack_data['accept'])\n",
        "web_attack_data['method']= label_encoder.fit_transform(web_attack_data['method'])\n",
        "web_attack_data['cookie']= label_encoder.fit_transform(web_attack_data['cookie'])\n",
        "web_attack_data['email']= label_encoder.fit_transform(web_attack_data['email'])\n",
        "web_attack_data['host']= label_encoder.fit_transform(web_attack_data['host'])\n",
        "web_attack_data['login']= label_encoder.fit_transform(web_attack_data['login'])\n",
        "web_attack_data['password']= label_encoder.fit_transform(web_attack_data['password'])\n",
        "web_attack_data['nombre']= label_encoder.fit_transform(web_attack_data['nombre'])\n",
        "web_attack_data.loc[web_attack_data['content_type']=='application/x-www-form-urlencoded', 'content_type'] = 1\n",
        "\n",
        "web_attack_data['accept_char']=1\n",
        "web_attack_data['accept_encoding']=1\n",
        "web_attack_data['accept_lang']=1\n",
        "web_attack_data['cache_control']=1\n",
        "web_attack_data['connection']=1\n",
        "web_attack_data['pragma']=1\n",
        "web_attack_data['user_agent']=1\n",
        "#web_attack_data['user_agent_length']=1\n",
        "#web_attack_data['label']=1\n",
        "web_attack_data=web_attack_data.apply(pd.to_numeric, errors='ignore')"
      ],
      "metadata": {
        "id": "bwXqy6wkDm8E"
      },
      "execution_count": null,
      "outputs": []
    },
    {
      "cell_type": "code",
      "source": [
        "web_attack_data.head()\n",
        "#printing the dataset's first five rows"
      ],
      "metadata": {
        "colab": {
          "base_uri": "https://localhost:8080/",
          "height": 300
        },
        "id": "NNnHiwFiEA5k",
        "outputId": "9ecffc12-a348-4f83-af4c-31fec712c04e"
      },
      "execution_count": null,
      "outputs": [
        {
          "output_type": "execute_result",
          "data": {
            "text/plain": [
              "   Length_of_cookie  accept  accept_char  accept_encoding  accept_lang  \\\n",
              "0                43       0            1                1            1   \n",
              "1                43       0            1                1            1   \n",
              "2                43       0            1                1            1   \n",
              "3                43       0            1                1            1   \n",
              "4                43       0            1                1            1   \n",
              "\n",
              "   cache_control  connection  content_length  content_type  cookie  ...  \\\n",
              "0              1           1             0.0             0   12070  ...   \n",
              "1              1           1             0.0             0   12070  ...   \n",
              "2              1           1             0.0             0   88818  ...   \n",
              "3              1           1             0.0             0   88818  ...   \n",
              "4              1           1             0.0             0   49413  ...   \n",
              "\n",
              "   login  method  nombre  password  password_length  pragma  special_chars  \\\n",
              "0     23       0      19       113                0       1              7   \n",
              "1     23       0      19       113                0       1              7   \n",
              "2     23       0      19       113                0       1              7   \n",
              "3     23       0      19       113                0       1              7   \n",
              "4     23       0    2713       113                0       1             21   \n",
              "\n",
              "   user_agent  user_agent_length  label  \n",
              "0           1                 72      1  \n",
              "1           1                 72      1  \n",
              "2           1                 72      1  \n",
              "3           1                 72      1  \n",
              "4           1                 72      1  \n",
              "\n",
              "[5 rows x 24 columns]"
            ],
            "text/html": [
              "\n",
              "  <div id=\"df-33b745e4-c11a-4ab7-9ace-6b30484ebff7\">\n",
              "    <div class=\"colab-df-container\">\n",
              "      <div>\n",
              "<style scoped>\n",
              "    .dataframe tbody tr th:only-of-type {\n",
              "        vertical-align: middle;\n",
              "    }\n",
              "\n",
              "    .dataframe tbody tr th {\n",
              "        vertical-align: top;\n",
              "    }\n",
              "\n",
              "    .dataframe thead th {\n",
              "        text-align: right;\n",
              "    }\n",
              "</style>\n",
              "<table border=\"1\" class=\"dataframe\">\n",
              "  <thead>\n",
              "    <tr style=\"text-align: right;\">\n",
              "      <th></th>\n",
              "      <th>Length_of_cookie</th>\n",
              "      <th>accept</th>\n",
              "      <th>accept_char</th>\n",
              "      <th>accept_encoding</th>\n",
              "      <th>accept_lang</th>\n",
              "      <th>cache_control</th>\n",
              "      <th>connection</th>\n",
              "      <th>content_length</th>\n",
              "      <th>content_type</th>\n",
              "      <th>cookie</th>\n",
              "      <th>...</th>\n",
              "      <th>login</th>\n",
              "      <th>method</th>\n",
              "      <th>nombre</th>\n",
              "      <th>password</th>\n",
              "      <th>password_length</th>\n",
              "      <th>pragma</th>\n",
              "      <th>special_chars</th>\n",
              "      <th>user_agent</th>\n",
              "      <th>user_agent_length</th>\n",
              "      <th>label</th>\n",
              "    </tr>\n",
              "  </thead>\n",
              "  <tbody>\n",
              "    <tr>\n",
              "      <th>0</th>\n",
              "      <td>43</td>\n",
              "      <td>0</td>\n",
              "      <td>1</td>\n",
              "      <td>1</td>\n",
              "      <td>1</td>\n",
              "      <td>1</td>\n",
              "      <td>1</td>\n",
              "      <td>0.0</td>\n",
              "      <td>0</td>\n",
              "      <td>12070</td>\n",
              "      <td>...</td>\n",
              "      <td>23</td>\n",
              "      <td>0</td>\n",
              "      <td>19</td>\n",
              "      <td>113</td>\n",
              "      <td>0</td>\n",
              "      <td>1</td>\n",
              "      <td>7</td>\n",
              "      <td>1</td>\n",
              "      <td>72</td>\n",
              "      <td>1</td>\n",
              "    </tr>\n",
              "    <tr>\n",
              "      <th>1</th>\n",
              "      <td>43</td>\n",
              "      <td>0</td>\n",
              "      <td>1</td>\n",
              "      <td>1</td>\n",
              "      <td>1</td>\n",
              "      <td>1</td>\n",
              "      <td>1</td>\n",
              "      <td>0.0</td>\n",
              "      <td>0</td>\n",
              "      <td>12070</td>\n",
              "      <td>...</td>\n",
              "      <td>23</td>\n",
              "      <td>0</td>\n",
              "      <td>19</td>\n",
              "      <td>113</td>\n",
              "      <td>0</td>\n",
              "      <td>1</td>\n",
              "      <td>7</td>\n",
              "      <td>1</td>\n",
              "      <td>72</td>\n",
              "      <td>1</td>\n",
              "    </tr>\n",
              "    <tr>\n",
              "      <th>2</th>\n",
              "      <td>43</td>\n",
              "      <td>0</td>\n",
              "      <td>1</td>\n",
              "      <td>1</td>\n",
              "      <td>1</td>\n",
              "      <td>1</td>\n",
              "      <td>1</td>\n",
              "      <td>0.0</td>\n",
              "      <td>0</td>\n",
              "      <td>88818</td>\n",
              "      <td>...</td>\n",
              "      <td>23</td>\n",
              "      <td>0</td>\n",
              "      <td>19</td>\n",
              "      <td>113</td>\n",
              "      <td>0</td>\n",
              "      <td>1</td>\n",
              "      <td>7</td>\n",
              "      <td>1</td>\n",
              "      <td>72</td>\n",
              "      <td>1</td>\n",
              "    </tr>\n",
              "    <tr>\n",
              "      <th>3</th>\n",
              "      <td>43</td>\n",
              "      <td>0</td>\n",
              "      <td>1</td>\n",
              "      <td>1</td>\n",
              "      <td>1</td>\n",
              "      <td>1</td>\n",
              "      <td>1</td>\n",
              "      <td>0.0</td>\n",
              "      <td>0</td>\n",
              "      <td>88818</td>\n",
              "      <td>...</td>\n",
              "      <td>23</td>\n",
              "      <td>0</td>\n",
              "      <td>19</td>\n",
              "      <td>113</td>\n",
              "      <td>0</td>\n",
              "      <td>1</td>\n",
              "      <td>7</td>\n",
              "      <td>1</td>\n",
              "      <td>72</td>\n",
              "      <td>1</td>\n",
              "    </tr>\n",
              "    <tr>\n",
              "      <th>4</th>\n",
              "      <td>43</td>\n",
              "      <td>0</td>\n",
              "      <td>1</td>\n",
              "      <td>1</td>\n",
              "      <td>1</td>\n",
              "      <td>1</td>\n",
              "      <td>1</td>\n",
              "      <td>0.0</td>\n",
              "      <td>0</td>\n",
              "      <td>49413</td>\n",
              "      <td>...</td>\n",
              "      <td>23</td>\n",
              "      <td>0</td>\n",
              "      <td>2713</td>\n",
              "      <td>113</td>\n",
              "      <td>0</td>\n",
              "      <td>1</td>\n",
              "      <td>21</td>\n",
              "      <td>1</td>\n",
              "      <td>72</td>\n",
              "      <td>1</td>\n",
              "    </tr>\n",
              "  </tbody>\n",
              "</table>\n",
              "<p>5 rows × 24 columns</p>\n",
              "</div>\n",
              "      <button class=\"colab-df-convert\" onclick=\"convertToInteractive('df-33b745e4-c11a-4ab7-9ace-6b30484ebff7')\"\n",
              "              title=\"Convert this dataframe to an interactive table.\"\n",
              "              style=\"display:none;\">\n",
              "        \n",
              "  <svg xmlns=\"http://www.w3.org/2000/svg\" height=\"24px\"viewBox=\"0 0 24 24\"\n",
              "       width=\"24px\">\n",
              "    <path d=\"M0 0h24v24H0V0z\" fill=\"none\"/>\n",
              "    <path d=\"M18.56 5.44l.94 2.06.94-2.06 2.06-.94-2.06-.94-.94-2.06-.94 2.06-2.06.94zm-11 1L8.5 8.5l.94-2.06 2.06-.94-2.06-.94L8.5 2.5l-.94 2.06-2.06.94zm10 10l.94 2.06.94-2.06 2.06-.94-2.06-.94-.94-2.06-.94 2.06-2.06.94z\"/><path d=\"M17.41 7.96l-1.37-1.37c-.4-.4-.92-.59-1.43-.59-.52 0-1.04.2-1.43.59L10.3 9.45l-7.72 7.72c-.78.78-.78 2.05 0 2.83L4 21.41c.39.39.9.59 1.41.59.51 0 1.02-.2 1.41-.59l7.78-7.78 2.81-2.81c.8-.78.8-2.07 0-2.86zM5.41 20L4 18.59l7.72-7.72 1.47 1.35L5.41 20z\"/>\n",
              "  </svg>\n",
              "      </button>\n",
              "      \n",
              "  <style>\n",
              "    .colab-df-container {\n",
              "      display:flex;\n",
              "      flex-wrap:wrap;\n",
              "      gap: 12px;\n",
              "    }\n",
              "\n",
              "    .colab-df-convert {\n",
              "      background-color: #E8F0FE;\n",
              "      border: none;\n",
              "      border-radius: 50%;\n",
              "      cursor: pointer;\n",
              "      display: none;\n",
              "      fill: #1967D2;\n",
              "      height: 32px;\n",
              "      padding: 0 0 0 0;\n",
              "      width: 32px;\n",
              "    }\n",
              "\n",
              "    .colab-df-convert:hover {\n",
              "      background-color: #E2EBFA;\n",
              "      box-shadow: 0px 1px 2px rgba(60, 64, 67, 0.3), 0px 1px 3px 1px rgba(60, 64, 67, 0.15);\n",
              "      fill: #174EA6;\n",
              "    }\n",
              "\n",
              "    [theme=dark] .colab-df-convert {\n",
              "      background-color: #3B4455;\n",
              "      fill: #D2E3FC;\n",
              "    }\n",
              "\n",
              "    [theme=dark] .colab-df-convert:hover {\n",
              "      background-color: #434B5C;\n",
              "      box-shadow: 0px 1px 3px 1px rgba(0, 0, 0, 0.15);\n",
              "      filter: drop-shadow(0px 1px 2px rgba(0, 0, 0, 0.3));\n",
              "      fill: #FFFFFF;\n",
              "    }\n",
              "  </style>\n",
              "\n",
              "      <script>\n",
              "        const buttonEl =\n",
              "          document.querySelector('#df-33b745e4-c11a-4ab7-9ace-6b30484ebff7 button.colab-df-convert');\n",
              "        buttonEl.style.display =\n",
              "          google.colab.kernel.accessAllowed ? 'block' : 'none';\n",
              "\n",
              "        async function convertToInteractive(key) {\n",
              "          const element = document.querySelector('#df-33b745e4-c11a-4ab7-9ace-6b30484ebff7');\n",
              "          const dataTable =\n",
              "            await google.colab.kernel.invokeFunction('convertToInteractive',\n",
              "                                                     [key], {});\n",
              "          if (!dataTable) return;\n",
              "\n",
              "          const docLinkHtml = 'Like what you see? Visit the ' +\n",
              "            '<a target=\"_blank\" href=https://colab.research.google.com/notebooks/data_table.ipynb>data table notebook</a>'\n",
              "            + ' to learn more about interactive tables.';\n",
              "          element.innerHTML = '';\n",
              "          dataTable['output_type'] = 'display_data';\n",
              "          await google.colab.output.renderOutput(dataTable, element);\n",
              "          const docLink = document.createElement('div');\n",
              "          docLink.innerHTML = docLinkHtml;\n",
              "          element.appendChild(docLink);\n",
              "        }\n",
              "      </script>\n",
              "    </div>\n",
              "  </div>\n",
              "  "
            ]
          },
          "metadata": {},
          "execution_count": 16
        }
      ]
    },
    {
      "cell_type": "code",
      "source": [
        "##checking null value\n",
        "web_attack_data.isnull().sum()"
      ],
      "metadata": {
        "colab": {
          "base_uri": "https://localhost:8080/"
        },
        "id": "ruDvs1DREIwl",
        "outputId": "4a42aa4d-3eac-4421-ce8d-4517b739af1f"
      },
      "execution_count": null,
      "outputs": [
        {
          "output_type": "execute_result",
          "data": {
            "text/plain": [
              "Length_of_cookie     0\n",
              "accept               0\n",
              "accept_char          0\n",
              "accept_encoding      0\n",
              "accept_lang          0\n",
              "cache_control        0\n",
              "connection           0\n",
              "content_length       0\n",
              "content_type         0\n",
              "cookie               0\n",
              "email                0\n",
              "host                 0\n",
              "keyword_count        0\n",
              "length_of_get        0\n",
              "login                0\n",
              "method               0\n",
              "nombre               0\n",
              "password             0\n",
              "password_length      0\n",
              "pragma               0\n",
              "special_chars        0\n",
              "user_agent           0\n",
              "user_agent_length    0\n",
              "label                0\n",
              "dtype: int64"
            ]
          },
          "metadata": {},
          "execution_count": 14
        }
      ]
    },
    {
      "cell_type": "code",
      "source": [
        "np.isinf(web_attack_data).values.sum()\n",
        "#checking_infinite_values in our data"
      ],
      "metadata": {
        "colab": {
          "base_uri": "https://localhost:8080/"
        },
        "id": "G8OMumnBEQbU",
        "outputId": "b393f7c1-1119-469f-e93f-fa82a95d2cb3"
      },
      "execution_count": null,
      "outputs": [
        {
          "output_type": "execute_result",
          "data": {
            "text/plain": [
              "0"
            ]
          },
          "metadata": {},
          "execution_count": 15
        }
      ]
    },
    {
      "cell_type": "code",
      "source": [
        "#shuffle all dataframe rows\n",
        "web_attack_data = web_attack_data.sample(frac = 1)\n"
      ],
      "metadata": {
        "id": "kY4gixxGEZ20"
      },
      "execution_count": null,
      "outputs": []
    },
    {
      "cell_type": "code",
      "source": [
        "X = web_attack_data.drop([\"label\"], axis=1)\n",
        "#removing the label column from column x\n",
        "Y = web_attack_data['label']\n",
        "#targeting the X-column label in"
      ],
      "metadata": {
        "id": "Ivys8VquEgAk"
      },
      "execution_count": null,
      "outputs": []
    },
    {
      "cell_type": "code",
      "source": [
        "print(X.shape)\n",
        "#printing X shape\n",
        "print(Y.shape)\n",
        "#printing y shape"
      ],
      "metadata": {
        "colab": {
          "base_uri": "https://localhost:8080/"
        },
        "id": "5mxRUBD3EnpE",
        "outputId": "80b3fef2-31ea-47e3-a9ad-d0fc5816d47b"
      },
      "execution_count": null,
      "outputs": [
        {
          "output_type": "stream",
          "name": "stdout",
          "text": [
            "(169065, 23)\n",
            "(169065,)\n"
          ]
        }
      ]
    },
    {
      "cell_type": "code",
      "source": [
        "#importing cmim for feature selection from SkFeature\n",
        "feature_indices = CMIM.cmim(X.values,Y.values, n_selected_features=23)\n",
        "#have taken 23 features \n",
        "_feature = web_attack_data.columns[feature_indices]\n",
        "#Specify the predictor and response variables."
      ],
      "metadata": {
        "id": "n59igxykEqrM"
      },
      "execution_count": null,
      "outputs": []
    },
    {
      "cell_type": "code",
      "source": [
        "X = web_attack_data[_feature]\n",
        "#targeting FCMIM feature in X\n",
        "y = web_attack_data['label']\n",
        "#taking label in y"
      ],
      "metadata": {
        "id": "BYqH2o4SF3bE"
      },
      "execution_count": null,
      "outputs": []
    },
    {
      "cell_type": "code",
      "source": [
        "_feature"
      ],
      "metadata": {
        "colab": {
          "base_uri": "https://localhost:8080/"
        },
        "id": "NMRIQCMEvMRA",
        "outputId": "c7c0bf8d-c0af-4d83-fb96-731738c6274c"
      },
      "execution_count": null,
      "outputs": [
        {
          "output_type": "execute_result",
          "data": {
            "text/plain": [
              "Index(['length_of_get', 'connection', 'login', 'cookie', 'content_length',\n",
              "       'method', 'user_agent', 'host', 'cache_control', 'user_agent_length',\n",
              "       'special_chars', 'pragma', 'password_length', 'password', 'nombre',\n",
              "       'accept_encoding', 'accept', 'Length_of_cookie', 'content_type',\n",
              "       'email', 'accept_lang', 'keyword_count', 'accept_char'],\n",
              "      dtype='object')"
            ]
          },
          "metadata": {},
          "execution_count": 25
        }
      ]
    },
    {
      "cell_type": "code",
      "source": [
        "from sklearn.feature_selection import mutual_info_classif\n",
        "# im_rting mut_ual in_fo from fea_ture sele_ction \n",
        "importance = mutual_info_classif(X, y)\n",
        "#getting importance \n",
        "feature_importance_Ig = pd.Series(importance, index=X.columns)\n",
        "#checking importance\n",
        "fig,ax = matplt.subplots()\n",
        "\n",
        "# plotting figure (15,6)\n",
        "fig.set_size_inches(15,6)\n",
        "# fixing fig_size of our graph 15,6 \n",
        "ax.barh(feature_importance_Ig.sort_values().index, feature_importance_Ig.sort_values().values)\n",
        "#Sorting the value and the fetaure importance that are taken from the FCMIM\n",
        "matplt.xticks(rotation=90)\n",
        "#rotating x axis label in 90 degree \n",
        "\n",
        "matplt.title('Information Gain for each feature')\n",
        "#Matplotlib's.title function is used to plot a title on a graph.\n",
        "matplt.show()\n",
        "#showing a bar graph using the matplotlib's function"
      ],
      "metadata": {
        "colab": {
          "base_uri": "https://localhost:8080/",
          "height": 402
        },
        "id": "E22KYiimIJrb",
        "outputId": "e5d856eb-bd11-4443-ae87-74cdd5e2d871"
      },
      "execution_count": null,
      "outputs": [
        {
          "output_type": "display_data",
          "data": {
            "text/plain": [
              "<Figure size 1080x432 with 1 Axes>"
            ],
            "image/png": "[encoded data removed]"
          },
          "metadata": {
            "needs_background": "light"
          }
        }
      ]
    },
    {
      "cell_type": "code",
      "source": [
        "t = pd.DataFrame(feature_importance_Ig.sort_values(), columns=['columns_name']).reset_index()#calling dataframe from oandas and converting feature importance in dataframe and sorting all values  and reseting index by function\n",
        "#cr_ting data_frame of imp_ort_ance\n",
        "p = t['index'].tolist()#converting in list by tolist function\n",
        "# listing the index \n",
        "X = web_attack_data.drop(p[0:2], axis=1)#dropping columns\n",
        "# dropping last two column\n",
        "X.columns#visualizing columns data"
      ],
      "metadata": {
        "colab": {
          "base_uri": "https://localhost:8080/"
        },
        "id": "ruYTOpD0ITnz",
        "outputId": "073d1468-2da3-462c-8258-a816cb4eb8f1"
      },
      "execution_count": null,
      "outputs": [
        {
          "output_type": "execute_result",
          "data": {
            "text/plain": [
              "Index(['Length_of_cookie', 'accept', 'accept_char', 'accept_encoding',\n",
              "       'accept_lang', 'cache_control', 'connection', 'content_length',\n",
              "       'content_type', 'cookie', 'email', 'length_of_get', 'login', 'method',\n",
              "       'nombre', 'password', 'password_length', 'pragma', 'special_chars',\n",
              "       'user_agent', 'user_agent_length', 'label'],\n",
              "      dtype='object')"
            ]
          },
          "metadata": {},
          "execution_count": 29
        }
      ]
    },
    {
      "cell_type": "code",
      "source": [
        "Y = web_attack_data['label']\n",
        "#from our dataset's intrusion data, the targeting label in y"
      ],
      "metadata": {
        "id": "VeHhvyn-TiKh"
      },
      "execution_count": null,
      "outputs": []
    },
    {
      "cell_type": "code",
      "source": [
        "#scaling the data by standard scaler \n",
        "scaling_data = STNSCA()#calling for scaling  \n",
        "X_scaled = pd.DataFrame(scaling_data.fit_transform(X),columns = X.columns)#making dataframe of scaling data and fitting standard scaler \n",
        "#making datarame of scaled data"
      ],
      "metadata": {
        "id": "7eYQKFpnTn0L"
      },
      "execution_count": null,
      "outputs": []
    },
    {
      "cell_type": "code",
      "source": [
        "from sklearn.decomposition import PCA\n",
        "# dimension reduction by importing PCA from Sklearn and splitting the dimension into two components\n",
        "pca = PCA(n_components=2)#invoking PCA and passing arguments\n",
        "#reducing the size of statistical data\n",
        "principalComponents=pca.fit_transform(X_scaled)# passing scaling data \n",
        "#fitting tht PCA on scaled data"
      ],
      "metadata": {
        "id": "SOOHIbNOVFuy"
      },
      "execution_count": null,
      "outputs": []
    },
    {
      "cell_type": "code",
      "source": [
        "principalDf = pd.DataFrame(data = principalComponents, columns = ['principal component 1', 'principal component 2'])\n",
        "# creating a PCA datarame and naming the columns "
      ],
      "metadata": {
        "id": "wBfv-drUVJSR"
      },
      "execution_count": null,
      "outputs": []
    },
    {
      "cell_type": "code",
      "source": [
        "principalDf#showing pca dataframe"
      ],
      "metadata": {
        "colab": {
          "base_uri": "https://localhost:8080/",
          "height": 424
        },
        "id": "FroWLQ1LVO1Z",
        "outputId": "23b73b17-6749-45d0-e405-76c5055d6fdc"
      },
      "execution_count": null,
      "outputs": [
        {
          "output_type": "execute_result",
          "data": {
            "text/plain": [
              "        principal component 1  principal component 2\n",
              "0                   -1.386704               0.264663\n",
              "1                   -1.040897               0.622195\n",
              "2                   -1.170203               0.538785\n",
              "3                   -1.171621               0.534152\n",
              "4                   -1.322866               0.337616\n",
              "...                       ...                    ...\n",
              "169060               4.464344               3.728869\n",
              "169061              -1.170445               0.537995\n",
              "169062              -1.382362               0.275083\n",
              "169063              -1.358618               0.326293\n",
              "169064               1.441523              -3.620101\n",
              "\n",
              "[169065 rows x 2 columns]"
            ],
            "text/html": [
              "\n",
              "  <div id=\"df-dea28580-edd3-4bf2-ae43-c70673dce74d\">\n",
              "    <div class=\"colab-df-container\">\n",
              "      <div>\n",
              "<style scoped>\n",
              "    .dataframe tbody tr th:only-of-type {\n",
              "        vertical-align: middle;\n",
              "    }\n",
              "\n",
              "    .dataframe tbody tr th {\n",
              "        vertical-align: top;\n",
              "    }\n",
              "\n",
              "    .dataframe thead th {\n",
              "        text-align: right;\n",
              "    }\n",
              "</style>\n",
              "<table border=\"1\" class=\"dataframe\">\n",
              "  <thead>\n",
              "    <tr style=\"text-align: right;\">\n",
              "      <th></th>\n",
              "      <th>principal component 1</th>\n",
              "      <th>principal component 2</th>\n",
              "    </tr>\n",
              "  </thead>\n",
              "  <tbody>\n",
              "    <tr>\n",
              "      <th>0</th>\n",
              "      <td>-1.386704</td>\n",
              "      <td>0.264663</td>\n",
              "    </tr>\n",
              "    <tr>\n",
              "      <th>1</th>\n",
              "      <td>-1.040897</td>\n",
              "      <td>0.622195</td>\n",
              "    </tr>\n",
              "    <tr>\n",
              "      <th>2</th>\n",
              "      <td>-1.170203</td>\n",
              "      <td>0.538785</td>\n",
              "    </tr>\n",
              "    <tr>\n",
              "      <th>3</th>\n",
              "      <td>-1.171621</td>\n",
              "      <td>0.534152</td>\n",
              "    </tr>\n",
              "    <tr>\n",
              "      <th>4</th>\n",
              "      <td>-1.322866</td>\n",
              "      <td>0.337616</td>\n",
              "    </tr>\n",
              "    <tr>\n",
              "      <th>...</th>\n",
              "      <td>...</td>\n",
              "      <td>...</td>\n",
              "    </tr>\n",
              "    <tr>\n",
              "      <th>169060</th>\n",
              "      <td>4.464344</td>\n",
              "      <td>3.728869</td>\n",
              "    </tr>\n",
              "    <tr>\n",
              "      <th>169061</th>\n",
              "      <td>-1.170445</td>\n",
              "      <td>0.537995</td>\n",
              "    </tr>\n",
              "    <tr>\n",
              "      <th>169062</th>\n",
              "      <td>-1.382362</td>\n",
              "      <td>0.275083</td>\n",
              "    </tr>\n",
              "    <tr>\n",
              "      <th>169063</th>\n",
              "      <td>-1.358618</td>\n",
              "      <td>0.326293</td>\n",
              "    </tr>\n",
              "    <tr>\n",
              "      <th>169064</th>\n",
              "      <td>1.441523</td>\n",
              "      <td>-3.620101</td>\n",
              "    </tr>\n",
              "  </tbody>\n",
              "</table>\n",
              "<p>169065 rows × 2 columns</p>\n",
              "</div>\n",
              "      <button class=\"colab-df-convert\" onclick=\"convertToInteractive('df-dea28580-edd3-4bf2-ae43-c70673dce74d')\"\n",
              "              title=\"Convert this dataframe to an interactive table.\"\n",
              "              style=\"display:none;\">\n",
              "        \n",
              "  <svg xmlns=\"http://www.w3.org/2000/svg\" height=\"24px\"viewBox=\"0 0 24 24\"\n",
              "       width=\"24px\">\n",
              "    <path d=\"M0 0h24v24H0V0z\" fill=\"none\"/>\n",
              "    <path d=\"M18.56 5.44l.94 2.06.94-2.06 2.06-.94-2.06-.94-.94-2.06-.94 2.06-2.06.94zm-11 1L8.5 8.5l.94-2.06 2.06-.94-2.06-.94L8.5 2.5l-.94 2.06-2.06.94zm10 10l.94 2.06.94-2.06 2.06-.94-2.06-.94-.94-2.06-.94 2.06-2.06.94z\"/><path d=\"M17.41 7.96l-1.37-1.37c-.4-.4-.92-.59-1.43-.59-.52 0-1.04.2-1.43.59L10.3 9.45l-7.72 7.72c-.78.78-.78 2.05 0 2.83L4 21.41c.39.39.9.59 1.41.59.51 0 1.02-.2 1.41-.59l7.78-7.78 2.81-2.81c.8-.78.8-2.07 0-2.86zM5.41 20L4 18.59l7.72-7.72 1.47 1.35L5.41 20z\"/>\n",
              "  </svg>\n",
              "      </button>\n",
              "      \n",
              "  <style>\n",
              "    .colab-df-container {\n",
              "      display:flex;\n",
              "      flex-wrap:wrap;\n",
              "      gap: 12px;\n",
              "    }\n",
              "\n",
              "    .colab-df-convert {\n",
              "      background-color: #E8F0FE;\n",
              "      border: none;\n",
              "      border-radius: 50%;\n",
              "      cursor: pointer;\n",
              "      display: none;\n",
              "      fill: #1967D2;\n",
              "      height: 32px;\n",
              "      padding: 0 0 0 0;\n",
              "      width: 32px;\n",
              "    }\n",
              "\n",
              "    .colab-df-convert:hover {\n",
              "      background-color: #E2EBFA;\n",
              "      box-shadow: 0px 1px 2px rgba(60, 64, 67, 0.3), 0px 1px 3px 1px rgba(60, 64, 67, 0.15);\n",
              "      fill: #174EA6;\n",
              "    }\n",
              "\n",
              "    [theme=dark] .colab-df-convert {\n",
              "      background-color: #3B4455;\n",
              "      fill: #D2E3FC;\n",
              "    }\n",
              "\n",
              "    [theme=dark] .colab-df-convert:hover {\n",
              "      background-color: #434B5C;\n",
              "      box-shadow: 0px 1px 3px 1px rgba(0, 0, 0, 0.15);\n",
              "      filter: drop-shadow(0px 1px 2px rgba(0, 0, 0, 0.3));\n",
              "      fill: #FFFFFF;\n",
              "    }\n",
              "  </style>\n",
              "\n",
              "      <script>\n",
              "        const buttonEl =\n",
              "          document.querySelector('#df-dea28580-edd3-4bf2-ae43-c70673dce74d button.colab-df-convert');\n",
              "        buttonEl.style.display =\n",
              "          google.colab.kernel.accessAllowed ? 'block' : 'none';\n",
              "\n",
              "        async function convertToInteractive(key) {\n",
              "          const element = document.querySelector('#df-dea28580-edd3-4bf2-ae43-c70673dce74d');\n",
              "          const dataTable =\n",
              "            await google.colab.kernel.invokeFunction('convertToInteractive',\n",
              "                                                     [key], {});\n",
              "          if (!dataTable) return;\n",
              "\n",
              "          const docLinkHtml = 'Like what you see? Visit the ' +\n",
              "            '<a target=\"_blank\" href=https://colab.research.google.com/notebooks/data_table.ipynb>data table notebook</a>'\n",
              "            + ' to learn more about interactive tables.';\n",
              "          element.innerHTML = '';\n",
              "          dataTable['output_type'] = 'display_data';\n",
              "          await google.colab.output.renderOutput(dataTable, element);\n",
              "          const docLink = document.createElement('div');\n",
              "          docLink.innerHTML = docLinkHtml;\n",
              "          element.appendChild(docLink);\n",
              "        }\n",
              "      </script>\n",
              "    </div>\n",
              "  </div>\n",
              "  "
            ]
          },
          "metadata": {},
          "execution_count": 31
        }
      ]
    },
    {
      "cell_type": "code",
      "source": [
        "#Dataset is divided 70-30 into taining and tsting groups.\n",
        "(trn_x, tst_x, trn_y, tst_y) = split_data(principalComponents, Y, test_size = 0.3) \n",
        "print(trn_x.shape, trn_y.shape)\n",
        "print(tst_x.shape, tst_y.shape)"
      ],
      "metadata": {
        "colab": {
          "base_uri": "https://localhost:8080/"
        },
        "id": "bxOCMKu6VR1Z",
        "outputId": "2be29694-cedc-4f2c-e144-bb529ccf25ae"
      },
      "execution_count": null,
      "outputs": [
        {
          "output_type": "stream",
          "name": "stdout",
          "text": [
            "(118345, 2) (118345,)\n",
            "(50720, 2) (50720,)\n"
          ]
        }
      ]
    },
    {
      "cell_type": "code",
      "source": [
        "import sklearn.metrics as metrics"
      ],
      "metadata": {
        "id": "R5wVDRtgWsVv"
      },
      "execution_count": null,
      "outputs": []
    },
    {
      "cell_type": "code",
      "source": [
        "'''\n",
        "After preprocessing and following these techniques such as\n",
        "Data visualization\n",
        "labelling\n",
        "FCMIM\n",
        "PCA\n",
        "after following these steps;\n",
        "we have define our dependent and independent variables.\n",
        "then we have divided our data in two parts i.e training and testing.\n",
        "and then used machine learning models like extratreeclassifier and xgboost with cross validation.\n",
        "we have used extratree model with cross validaion and given hyperparameters with 10 cv.\n",
        "and get the precision,recall,accuracy and f1 score for each this model.\n",
        "we have used xgboost model with cross validaion and given hyperparameters with 10 cv as well.\n",
        "and get the precision,recall,accuracy and f1 score for each this model.\n",
        "after getting the training and testing accuracy.\n",
        "we have also plot the confusion matrix and ROC curve for both models.\n",
        "we have also mention the random state in our code.\n",
        "after that we have done scaling.\n",
        "and then applied the machine learning models.\n",
        "first we have define the variable then fitted and predicted the models.\n",
        "and we have used hyperparametrs in one of them i.e xgboost.\n",
        "\n",
        "'''"
      ],
      "metadata": {
        "id": "VK66I6geRENx",
        "colab": {
          "base_uri": "https://localhost:8080/",
          "height": 192
        },
        "outputId": "e9cbc50d-c34d-43a5-8214-7b033274cc0c"
      },
      "execution_count": null,
      "outputs": [
        {
          "output_type": "execute_result",
          "data": {
            "text/plain": [
              "'\\nAfter preprocessing and following these techniques such as\\nData visualization\\nlabelling\\nFCMIM\\nPCA\\nafter following these steps;\\nwe have define our dependent and independent variables.\\nthen we have divided our data in two parts i.e training and testing.\\nand then used machine learning models like extratreeclassifier and xgboost with cross validation.\\nwe have used extratree model with cross validaion and given hyperparameters with 10 cv.\\nand get the precision,recall,accuracy and f1 score for each this model.\\nwe have used xgboost model with cross validaion and given hyperparameters with 10 cv as well.\\nand get the precision,recall,accuracy and f1 score for each this model.\\nafter getting the training and testing accuracy.\\nwe have also plot the confusion matrix and ROC curve for both models.\\nwe have also mention the random state in our code.\\nafter that we have done scaling.\\nand then applied the machine learning models.\\nfirst we have define the variable then fitted and predicted the models.\\nand we have used hyperparametrs in one of them i.e xgboost.\\n\\n'"
            ],
            "application/vnd.google.colaboratory.intrinsic+json": {
              "type": "string"
            }
          },
          "metadata": {},
          "execution_count": 34
        }
      ]
    },
    {
      "cell_type": "markdown",
      "source": [
        "**ExtratreeClassifier(with cross validation)**"
      ],
      "metadata": {
        "id": "JuKNTZ-xVXRJ"
      }
    },
    {
      "cell_type": "code",
      "source": [
        "from sklearn.ensemble import ExtraTreesClassifier\n",
        "# Building the model\n",
        "extra_tree_forest = ExtraTreesClassifier()         \n",
        " \n",
        "# Taining the model                                         \n",
        "extra_tree_forest.fit(trn_x,trn_y)\n",
        "\n",
        "##_predict t model\n",
        "pred1 = extra_tree_forest.predict(tst_x)\n",
        "print('accuracy=',metrics.accuracy_score(tst_y,pred1))"
      ],
      "metadata": {
        "colab": {
          "base_uri": "https://localhost:8080/"
        },
        "id": "X2VPxKxIWQo5",
        "outputId": "0475b410-f7ec-4019-f3aa-1eb325d85b3f"
      },
      "execution_count": null,
      "outputs": [
        {
          "output_type": "stream",
          "name": "stdout",
          "text": [
            "accuracy= 0.9730086750788643\n"
          ]
        }
      ]
    },
    {
      "cell_type": "code",
      "source": [
        "from sklearn.model_selection import cross_val_score\n",
        "scores = cross_val_score(extra_tree_forest,trn_x,trn_y,cv=5)\n",
        "##_showed the mean\n",
        "scores.mean()"
      ],
      "metadata": {
        "colab": {
          "base_uri": "https://localhost:8080/"
        },
        "id": "YaPkDXTDWzMC",
        "outputId": "94e3a3b5-84c5-43f6-edc2-9aa228a46850"
      },
      "execution_count": null,
      "outputs": [
        {
          "output_type": "execute_result",
          "data": {
            "text/plain": [
              "0.9735603532046136"
            ]
          },
          "metadata": {},
          "execution_count": 36
        }
      ]
    },
    {
      "cell_type": "markdown",
      "source": [
        "**Training accuracy and scores**"
      ],
      "metadata": {
        "id": "K9hwE9z0W1_g"
      }
    },
    {
      "cell_type": "code",
      "source": [
        "##_showed training,f1,precision Score using cross_validation(5)\n",
        "training_acc = cross_val_score(extra_tree_forest,trn_x,trn_y,cv=5)\n",
        "f1_score = cross_val_score(extra_tree_forest,trn_x,trn_y, scoring='f1_macro',cv=5)\n",
        "precision = cross_val_score(extra_tree_forest,trn_x,trn_y, scoring='precision_macro',cv=5)\n",
        "Recall_score = cross_val_score(extra_tree_forest,trn_x,trn_y, scoring='recall_macro',cv=5)\n",
        "########################################################################################################\n",
        "##_print the acc..,precision and recall\n",
        "print(\"Training accuracy : %0.2f\" % (training_acc.mean()*100))\n",
        "print('F1-Score : %0.2f' % (f1_score.mean()*100))\n",
        "print('Precision : %0.2f' % (precision.mean()*100))\n",
        "print('Recall score :%0.2f'%(Recall_score.mean()*100))"
      ],
      "metadata": {
        "colab": {
          "base_uri": "https://localhost:8080/"
        },
        "id": "In6i3sQtVmEp",
        "outputId": "124cd8ae-38ca-4bb7-c231-1f3934088271"
      },
      "execution_count": null,
      "outputs": [
        {
          "output_type": "stream",
          "name": "stdout",
          "text": [
            "Training accuracy : 97.35\n",
            "F1-Score : 94.57\n",
            "Precision : 96.54\n",
            "Recall score :92.86\n"
          ]
        }
      ]
    },
    {
      "cell_type": "code",
      "source": [
        "####_plot confusion matrix\n",
        "from sklearn.metrics import plot_confusion_matrix\n",
        "\n",
        "##_Confusion _matrix \n",
        "matrix = plot_confusion_matrix(extra_tree_forest, trn_x,trn_y,\n",
        "                               cmap=matplt.cm.Blues,\n",
        "                               normalize='true')\n",
        "matplt.title('Confusion matrix for our classifier')\n",
        "matplt.show(matrix)\n",
        "matplt.show()\n"
      ],
      "metadata": {
        "colab": {
          "base_uri": "https://localhost:8080/",
          "height": 295
        },
        "id": "Zr1zYBoRVmA4",
        "outputId": "a835f9bd-e388-4494-b05f-624753cc15e0"
      },
      "execution_count": null,
      "outputs": [
        {
          "output_type": "display_data",
          "data": {
            "text/plain": [
              "<Figure size 432x288 with 2 Axes>"
            ],
            "image/png": "[encoded data removed]"
          },
          "metadata": {
            "needs_background": "light"
          }
        }
      ]
    },
    {
      "cell_type": "markdown",
      "source": [
        "**Testing accuracy and scores**"
      ],
      "metadata": {
        "id": "67Vvr9QOW95I"
      }
    },
    {
      "cell_type": "code",
      "source": [
        "##_showed training,f1,precision Score using cross_validation(5)\n",
        "testing_acc = cross_val_score(extra_tree_forest,tst_x,tst_y,cv=5)\n",
        "f1_score = cross_val_score(extra_tree_forest,tst_x,tst_y, scoring='f1_macro',cv=5)\n",
        "precision = cross_val_score(extra_tree_forest,tst_x,tst_y, scoring='precision_macro',cv=5)\n",
        "Recall_score = cross_val_score(extra_tree_forest,tst_x,tst_y, scoring='recall_macro',cv=5)\n",
        "########################################################################################################\n",
        "##_print the acc..,precision and recall\n",
        "print(\"Testing accuracy : %0.2f\" % (training_acc.mean()*100))\n",
        "print('F1-Score : %0.2f' % (f1_score.mean()*100))\n",
        "print('Precision : %0.2f' % (precision.mean()*100))\n",
        "print('Recall score :%0.2f'%(Recall_score.mean()*100))"
      ],
      "metadata": {
        "colab": {
          "base_uri": "https://localhost:8080/"
        },
        "id": "XkgrZGuWWT3A",
        "outputId": "d9a46ad2-e29c-491b-cb1e-06414e3961de"
      },
      "execution_count": null,
      "outputs": [
        {
          "output_type": "stream",
          "name": "stdout",
          "text": [
            "Testing accuracy : 97.35\n",
            "F1-Score : 94.17\n",
            "Precision : 96.15\n",
            "Recall score :92.35\n"
          ]
        }
      ]
    },
    {
      "cell_type": "code",
      "source": [
        "####_plot confusion matrix\n",
        "from sklearn.metrics import plot_confusion_matrix\n",
        "\n",
        "##_Confusion _matrix \n",
        "matrix = plot_confusion_matrix(extra_tree_forest, tst_x,tst_y,\n",
        "                               cmap=matplt.cm.Blues,\n",
        "                               normalize='true')\n",
        "matplt.title('Confusion matrix for our classifier')\n",
        "matplt.show(matrix)\n",
        "matplt.show()\n"
      ],
      "metadata": {
        "colab": {
          "base_uri": "https://localhost:8080/",
          "height": 295
        },
        "id": "acJpTFqrWTnB",
        "outputId": "a916ab4d-4932-46e1-9d29-6c8d2d130d8b"
      },
      "execution_count": null,
      "outputs": [
        {
          "output_type": "display_data",
          "data": {
            "text/plain": [
              "<Figure size 432x288 with 2 Axes>"
            ],
            "image/png": "[encoded data removed]"
          },
          "metadata": {
            "needs_background": "light"
          }
        }
      ]
    },
    {
      "cell_type": "code",
      "source": [
        "##creating 'roc' curve nd predicting it\n",
        "pred1_proba = extra_tree_forest.predict_proba(tst_x)[::,1]\n",
        "fpr, tpr, _ = metrics.roc_curve(tst_y,  pred1_proba)\n",
        "\n",
        "#create ROC curve nd given labels \n",
        "matplt.plot(fpr,tpr)\n",
        "matplt.ylabel('True Positive Rate')\n",
        "matplt.xlabel('False Positive Rate')\n",
        "matplt.show()"
      ],
      "metadata": {
        "colab": {
          "base_uri": "https://localhost:8080/",
          "height": 279
        },
        "id": "bBSboIzCn8F-",
        "outputId": "bee022e6-86b3-4f9a-9d82-6733075e49c7"
      },
      "execution_count": null,
      "outputs": [
        {
          "output_type": "display_data",
          "data": {
            "text/plain": [
              "<Figure size 432x288 with 1 Axes>"
            ],
            "image/png": "[encoded data removed]"
          },
          "metadata": {
            "needs_background": "light"
          }
        }
      ]
    },
    {
      "cell_type": "markdown",
      "source": [
        "**Xgboost with cross validation**"
      ],
      "metadata": {
        "id": "0pNb1QduYGp4"
      }
    },
    {
      "cell_type": "code",
      "source": [
        "##-import xgboost classsifier\n",
        "from xgboost import XGBClassifier\n",
        "#f_i_t the _model on _the _tai_ning _da_ta\n",
        "model2 = XGBClassifier(n_estimators=600)\n",
        "model2.fit(trn_x,trn_y)\n",
        "##_predict the model\n",
        "pred2 = model2.predict(tst_x)\n",
        "print('accuracy=',metrics.accuracy_score(tst_y,pred2))"
      ],
      "metadata": {
        "colab": {
          "base_uri": "https://localhost:8080/"
        },
        "id": "JvSnQaW8XHXi",
        "outputId": "b702b92f-9348-41fa-c44c-84751a695685"
      },
      "execution_count": null,
      "outputs": [
        {
          "output_type": "stream",
          "name": "stdout",
          "text": [
            "accuracy= 0.9739353312302839\n"
          ]
        }
      ]
    },
    {
      "cell_type": "code",
      "source": [
        "from sklearn.model_selection import cross_val_score\n",
        "scores = cross_val_score(model2,trn_x,trn_y,cv=10)\n",
        "##_showed the mean\n",
        "scores.mean()"
      ],
      "metadata": {
        "id": "_jPOLcaljcR3",
        "colab": {
          "base_uri": "https://localhost:8080/"
        },
        "outputId": "777da07c-b4e1-4d33-84cc-3acb934a5a07"
      },
      "execution_count": null,
      "outputs": [
        {
          "output_type": "execute_result",
          "data": {
            "text/plain": [
              "0.974734879535875"
            ]
          },
          "metadata": {},
          "execution_count": 43
        }
      ]
    },
    {
      "cell_type": "markdown",
      "source": [
        "**Training accuracy and scores**"
      ],
      "metadata": {
        "id": "XR51c40A4LkK"
      }
    },
    {
      "cell_type": "code",
      "source": [
        "##_showed training,f1,precision Score using cross_validation(10)\n",
        "training_acc = cross_val_score(model2,trn_x,trn_y,cv=10)\n",
        "f1_score = cross_val_score(model2,trn_x,trn_y, scoring='f1_macro',cv=10)\n",
        "precision = cross_val_score(model2,trn_x,trn_y, scoring='precision_macro',cv=10)\n",
        "Recall_score = cross_val_score(model2,trn_x,trn_y, scoring='recall_macro',cv=10)\n",
        "########################################################################################################\n",
        "##_print the acc..,precision and recall\n",
        "print(\"Training accuracy : %0.2f\" % (training_acc.mean()*100))\n",
        "print('F1-Score : %0.2f' % (f1_score.mean()*100))\n",
        "print('Precision : %0.2f' % (precision.mean()*100))\n",
        "print('Recall score :%0.2f'%(Recall_score.mean()*100))"
      ],
      "metadata": {
        "colab": {
          "base_uri": "https://localhost:8080/"
        },
        "id": "iH1HQHamUIAR",
        "outputId": "0bbb6510-e878-4dec-e8dc-5e23c79ac05c"
      },
      "execution_count": null,
      "outputs": [
        {
          "output_type": "stream",
          "name": "stdout",
          "text": [
            "Training accuracy : 97.47\n",
            "F1-Score : 94.63\n",
            "Precision : 98.37\n",
            "Recall score :91.62\n"
          ]
        }
      ]
    },
    {
      "cell_type": "code",
      "source": [
        "####_plot confusion matrix\n",
        "from sklearn.metrics import plot_confusion_matrix\n",
        "\n",
        "##_Confusion _matrix \n",
        "matrix = plot_confusion_matrix(model2, trn_x,trn_y,\n",
        "                               cmap=matplt.cm.Blues,\n",
        "                               normalize='true')\n",
        "matplt.title('Confusion matrix for our classifier')\n",
        "matplt.show(matrix)\n",
        "matplt.show()\n"
      ],
      "metadata": {
        "colab": {
          "base_uri": "https://localhost:8080/",
          "height": 295
        },
        "id": "Dw_c8sj7YcSg",
        "outputId": "ff66aa15-d8b2-45a5-89d1-08ae73016056"
      },
      "execution_count": null,
      "outputs": [
        {
          "output_type": "display_data",
          "data": {
            "text/plain": [
              "<Figure size 432x288 with 2 Axes>"
            ],
            "image/png": "[encoded data removed]"
          },
          "metadata": {
            "needs_background": "light"
          }
        }
      ]
    },
    {
      "cell_type": "markdown",
      "source": [
        "**Testing accuracy and scores**"
      ],
      "metadata": {
        "id": "hbgRPLbw4S9j"
      }
    },
    {
      "cell_type": "code",
      "source": [
        "##_showed training,f1,precision Score using cross_validation(10)\n",
        "testing_acc = cross_val_score(model2,tst_x,tst_y,cv=10)\n",
        "f1_score = cross_val_score(model2,tst_x,tst_y, scoring='f1_macro',cv=10)\n",
        "precision = cross_val_score(model2,tst_x,tst_y, scoring='precision_macro',cv=10)\n",
        "Recall_score = cross_val_score(model2,tst_x,tst_y, scoring='recall_macro',cv=10)\n",
        "########################################################################################################\n",
        "##_print the acc..,precision and recall\n",
        "print(\"Testing accuracy : %0.2f\" % (training_acc.mean()*100))\n",
        "print('F1-Score : %0.2f' % (f1_score.mean()*100))\n",
        "print('Precision : %0.2f' % (precision.mean()*100))\n",
        "print('Recall score :%0.2f'%(Recall_score.mean()*100))"
      ],
      "metadata": {
        "colab": {
          "base_uri": "https://localhost:8080/"
        },
        "id": "usTEFWK8YfU4",
        "outputId": "3d6e1ee0-092e-4180-ac08-c13c87302be2"
      },
      "execution_count": null,
      "outputs": [
        {
          "output_type": "stream",
          "name": "stdout",
          "text": [
            "Testing accuracy : 97.47\n",
            "F1-Score : 94.41\n",
            "Precision : 98.28\n",
            "Recall score :91.34\n"
          ]
        }
      ]
    },
    {
      "cell_type": "code",
      "source": [
        "####_plot confusion matrix\n",
        "from sklearn.metrics import plot_confusion_matrix\n",
        "\n",
        "##_Confusion _matrix \n",
        "matrix = plot_confusion_matrix(model2, tst_x,tst_y,\n",
        "                               cmap=matplt.cm.Blues,\n",
        "                               normalize='true')\n",
        "matplt.title('Confusion matrix for our classifier')\n",
        "matplt.show(matrix)\n",
        "matplt.show()\n"
      ],
      "metadata": {
        "colab": {
          "base_uri": "https://localhost:8080/",
          "height": 295
        },
        "id": "MCiJpimJYfRa",
        "outputId": "f1594689-2bf2-447e-ba10-f9079230684b"
      },
      "execution_count": null,
      "outputs": [
        {
          "output_type": "display_data",
          "data": {
            "text/plain": [
              "<Figure size 432x288 with 2 Axes>"
            ],
            "image/png": "[encoded data removed]"
          },
          "metadata": {
            "needs_background": "light"
          }
        }
      ]
    },
    {
      "cell_type": "code",
      "source": [
        "##creating 'roc' curve nd predicting it\n",
        "pred1_proba = model2.predict_proba(tst_x)[::,1]\n",
        "fpr, tpr, _ = metrics.roc_curve(tst_y,  pred1_proba)\n",
        "\n",
        "#create ROC curve nd given labels \n",
        "matplt.plot(fpr,tpr)\n",
        "matplt.ylabel('True Positive Rate')\n",
        "matplt.xlabel('False Positive Rate')\n",
        "matplt.show()"
      ],
      "metadata": {
        "colab": {
          "base_uri": "https://localhost:8080/",
          "height": 279
        },
        "id": "d62fNQSykOMw",
        "outputId": "8234ff9a-280e-437d-db4e-23193ce0e6e8"
      },
      "execution_count": null,
      "outputs": [
        {
          "output_type": "display_data",
          "data": {
            "text/plain": [
              "<Figure size 432x288 with 1 Axes>"
            ],
            "image/png": "[encoded data removed]"
          },
          "metadata": {
            "needs_background": "light"
          }
        }
      ]
    },
    {
      "cell_type": "code",
      "source": [
        "'''\n",
        "In Extra tree classifier we have predicted and fit the model nd given the hyperparameter which will help in improving our accuracy.\n",
        "afterthat we have used cross validation with 10 cv\n",
        "IN xgboost model we have predicted and fit the model nd given the hyperparameter which will help in improving our accuracy.\n",
        "in which we have done the first step i.e fitting our model then predicted the model and also given the hyperparameters which helps in increasing the accuracy.\n",
        "the models we have used in this code. we have find out the accuracy,precision ,recall for each model\n",
        "then we showed the confusion matrix for each model, and thier graph as well.\n",
        "Imported some important library like pandas,labelencoder,train_test_split,dt,dnn etc. \n",
        "we hve used the 'attack files' dataset which is publicly available\n",
        "then we checked null values,shape and plot some graph like countplot and histogram.\n",
        "then we have done labelling.but before labeling dropped some columns from the dataframe.\n",
        "afterthat we used models xgboost and extratreeclassifier which has given the accuracy that is mentioned below.\n",
        "Testing accuracy:-\n",
        "                    Extra tree classifier = 0.97\n",
        "                    Xgboost = 0.97\n",
        "which is much better than the base models.\n",
        "In xgboost model we have given the hyperparameter i.e n_estimator (600) which has a role to improve the accuracy.\n",
        "we haven't used any hyperparameter in extra tree model.\n",
        "IN xgboost we have used  ten cross validation.\n",
        "but in extra tree model we have used five cross validaion.\n",
        "after that we have also plot confusion matrix and ROC curve as well.\n",
        "'''"
      ],
      "metadata": {
        "id": "8Ko2b11Yn1FP",
        "colab": {
          "base_uri": "https://localhost:8080/",
          "height": 192
        },
        "outputId": "6e4cd2fa-7350-4dfa-da26-424bd9397e27"
      },
      "execution_count": null,
      "outputs": [
        {
          "output_type": "execute_result",
          "data": {
            "text/plain": [
              "\"\\nIn Extra tree classifier we have predicted and fit the model nd given the hyperparameter which will help in improving our accuracy.\\nafterthat we have used cross validation with 10 cv\\nIN xgboost model we have predicted and fit the model nd given the hyperparameter which will help in improving our accuracy.\\nin which we have done the first step i.e fitting our model then predicted the model and also given the hyperparameters which helps in increasing the accuracy.\\nthe models we have used in this code. we have find out the accuracy,precision ,recall for each model\\nthen we showed the confusion matrix for each model, and thier graph as well.\\nImported some important library like pandas,labelencoder,train_test_split,dt,dnn etc. \\nwe hve used the 'attack files' dataset which is publicly available\\nthen we checked null values,shape and plot some graph like countplot and histogram.\\nthen we have done labelling.but before labeling dropped some columns from the dataframe.\\nafterthat we used models xgboost and extratreeclassifier which has given the accuracy that is mentioned below.\\nTesting accuracy:-\\n                    Extra tree classifier = 0.97\\n                    Xgboost = 0.97\\nwhich is much better than the base models.\\nIn xgboost model we have given the hyperparameter i.e n_estimator (600) which has a role to improve the accuracy.\\nwe haven't used any hyperparameter in extra tree model.\\nIN xgboost we have used  ten cross validation.\\nbut in extra tree model we have used five cross validaion.\\nafter that we have also plot confusion matrix and ROC curve as well.\\n\""
            ],
            "application/vnd.google.colaboratory.intrinsic+json": {
              "type": "string"
            }
          },
          "metadata": {},
          "execution_count": 49
        }
      ]
    },
    {
      "cell_type": "code",
      "source": [],
      "metadata": {
        "id": "e2AaMP_cyt1X"
      },
      "execution_count": null,
      "outputs": []
    }
  ]
}